{
  "nbformat": 4,
  "nbformat_minor": 0,
  "metadata": {
    "colab": {
      "name": "image recognision.ipynb",
      "provenance": []
    },
    "kernelspec": {
      "name": "python3",
      "display_name": "Python 3"
    },
    "language_info": {
      "name": "python"
    }
  },
  "cells": [
    {
      "cell_type": "code",
      "execution_count": 1,
      "metadata": {
        "colab": {
          "base_uri": "https://localhost:8080/"
        },
        "id": "frwEd3uccrHy",
        "outputId": "9a3a28db-62b7-44ed-817c-9b35428dd11a"
      },
      "outputs": [
        {
          "output_type": "stream",
          "name": "stdout",
          "text": [
            "Mounted at /content/gdrive\n"
          ]
        }
      ],
      "source": [
        "from google.colab import drive\n",
        "drive.mount('/content/gdrive')"
      ]
    },
    {
      "cell_type": "code",
      "source": [
        "!pip install dlib\n",
        "!pip install face_recognition"
      ],
      "metadata": {
        "colab": {
          "base_uri": "https://localhost:8080/"
        },
        "id": "4oa5zK-sdJ16",
        "outputId": "d33f6dd1-a1ea-40fb-9c6d-6ff698da5a09"
      },
      "execution_count": 2,
      "outputs": [
        {
          "output_type": "stream",
          "name": "stdout",
          "text": [
            "Looking in indexes: https://pypi.org/simple, https://us-python.pkg.dev/colab-wheels/public/simple/\n",
            "Requirement already satisfied: dlib in /usr/local/lib/python3.7/dist-packages (19.18.0+zzzcolab20220513001918)\n",
            "Looking in indexes: https://pypi.org/simple, https://us-python.pkg.dev/colab-wheels/public/simple/\n",
            "Collecting face_recognition\n",
            "  Downloading face_recognition-1.3.0-py2.py3-none-any.whl (15 kB)\n",
            "Requirement already satisfied: Pillow in /usr/local/lib/python3.7/dist-packages (from face_recognition) (7.1.2)\n",
            "Requirement already satisfied: dlib>=19.7 in /usr/local/lib/python3.7/dist-packages (from face_recognition) (19.18.0+zzzcolab20220513001918)\n",
            "Requirement already satisfied: Click>=6.0 in /usr/local/lib/python3.7/dist-packages (from face_recognition) (7.1.2)\n",
            "Collecting face-recognition-models>=0.3.0\n",
            "  Downloading face_recognition_models-0.3.0.tar.gz (100.1 MB)\n",
            "\u001b[K     |████████████████████████████████| 100.1 MB 26 kB/s \n",
            "\u001b[?25hRequirement already satisfied: numpy in /usr/local/lib/python3.7/dist-packages (from face_recognition) (1.21.6)\n",
            "Building wheels for collected packages: face-recognition-models\n",
            "  Building wheel for face-recognition-models (setup.py) ... \u001b[?25l\u001b[?25hdone\n",
            "  Created wheel for face-recognition-models: filename=face_recognition_models-0.3.0-py2.py3-none-any.whl size=100566186 sha256=e28c29cea9efa3d4cf9a09ddcf86b217ca81cf2bab9866a1c4f66558e42d673a\n",
            "  Stored in directory: /root/.cache/pip/wheels/d6/81/3c/884bcd5e1c120ff548d57c2ecc9ebf3281c9a6f7c0e7e7947a\n",
            "Successfully built face-recognition-models\n",
            "Installing collected packages: face-recognition-models, face-recognition\n",
            "Successfully installed face-recognition-1.3.0 face-recognition-models-0.3.0\n"
          ]
        }
      ]
    },
    {
      "cell_type": "code",
      "source": [
        "import os\n",
        "import face_recognition"
      ],
      "metadata": {
        "id": "GSswcljbepW4"
      },
      "execution_count": 3,
      "outputs": []
    },
    {
      "cell_type": "code",
      "source": [
        "#os.chdir method changes the current working directory to the given path\n",
        "os.chdir('/content/gdrive/My Drive/Trial')"
      ],
      "metadata": {
        "id": "WBCRQpyydAy7"
      },
      "execution_count": 4,
      "outputs": []
    },
    {
      "cell_type": "code",
      "source": [
        "#os.listdir is used to get the list of all files and directories in the specified directory\n",
        "#It therefore makes the images available for training. \n",
        "images = os.listdir('/content/gdrive/My Drive/Trial')\n",
        "\n",
        "# uploading the image we want to check whether it exits in out \"corpus\"\n",
        "checked_image = face_recognition.load_image_file('/content/gdrive/My Drive/Getting/visitor/oprah.jpg')\n",
        "\n",
        "# encoding the uploaded image. Why?\n",
        "checked_image_encoded = face_recognition.face_encodings(\n",
        "    checked_image)[0]"
      ],
      "metadata": {
        "id": "fcwdHtyvcsVW"
      },
      "execution_count": 12,
      "outputs": []
    },
    {
      "cell_type": "code",
      "source": [
        "  # iterating over every image in corpus to check for uploaded image\n",
        "for image in images:\n",
        "    current_image = face_recognition.load_image_file(\"/content/gdrive/My Drive/Trial/\" + image)\n",
        "    current_image_encoded = face_recognition.face_encodings(current_image)[0]\n",
        "    result = face_recognition.compare_faces(\n",
        "        [checked_image_encoded], current_image_encoded)\n",
        "  \n",
        "    if result[0] == True:\n",
        "        print(\"Corpus, uploaded image is: \" + image)\n",
        "    else:\n",
        "      print(\"Visitor, uploaded image is not: \" + image)"
      ],
      "metadata": {
        "colab": {
          "base_uri": "https://localhost:8080/"
        },
        "id": "PBK6trB7csMm",
        "outputId": "a0f04cbd-e473-4764-a540-b7c1f4bfd1a4"
      },
      "execution_count": 14,
      "outputs": [
        {
          "output_type": "stream",
          "name": "stdout",
          "text": [
            "Visitor, uploaded image is not: inno1.jpg\n",
            "Visitor, uploaded image is not: inno3.jpg\n",
            "Visitor, uploaded image is not: inno2.jpg\n",
            "Visitor, uploaded image is not: pesh4.jpg\n",
            "Visitor, uploaded image is not: mercy3.png\n",
            "Visitor, uploaded image is not: pesh1.jpg\n",
            "Visitor, uploaded image is not: pesh3.jpg\n",
            "Visitor, uploaded image is not: pesh2.jpg\n",
            "Visitor, uploaded image is not: mercy2.png\n",
            "Visitor, uploaded image is not: mercy1.png\n",
            "Visitor, uploaded image is not: inno23.jpg\n",
            "Visitor, uploaded image is not: chabi3.jpg\n",
            "Visitor, uploaded image is not: chabi2.jpg\n"
          ]
        }
      ]
    },
    {
      "cell_type": "code",
      "source": [
        ""
      ],
      "metadata": {
        "id": "C2SHRpEOcsAc"
      },
      "execution_count": 6,
      "outputs": []
    },
    {
      "cell_type": "code",
      "source": [
        ""
      ],
      "metadata": {
        "id": "pKuLUzREcr5t"
      },
      "execution_count": 6,
      "outputs": []
    }
  ]
}